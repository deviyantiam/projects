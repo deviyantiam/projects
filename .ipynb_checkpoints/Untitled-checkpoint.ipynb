{
 "cells": [
  {
   "cell_type": "code",
   "execution_count": 2,
   "metadata": {},
   "outputs": [
    {
     "name": "stdout",
     "output_type": "stream",
     "text": [
      "[datetime.date(2018, 8, 10), 1076.2392505636847] [datetime.date(2019, 8, 19), 1076.2392505636856]\n",
      "[['2018-08', 98923.7607494363], ['2019-08', 1076.2392505636856]]\n"
     ]
    }
   ],
   "source": [
    "import datetime\n",
    "lst = [[datetime.date(2018, 8, 10), 1076.2392505636847],\n",
    " [datetime.date(2018, 8, 11), 3537.9781979862732],\n",
    " [datetime.date(2018, 8, 12), 8637.536518161462],\n",
    " [datetime.date(2018, 8, 13), 15660.768121458246],\n",
    " [datetime.date(2018, 8, 14), 21087.477911830327],\n",
    " [datetime.date(2018, 8, 15), 21087.477911830327],\n",
    " [datetime.date(2018, 8, 16), 15660.768121458246],\n",
    " [datetime.date(2018, 8, 17), 8637.536518161465],\n",
    " [datetime.date(2018, 8, 18), 3537.9781979862732],\n",
    " [datetime.date(2019, 8, 19), 1076.2392505636856]]\n",
    "\n",
    "starttime = min(lst)\n",
    "endtime   = max(lst)\n",
    "\n",
    "from itertools import groupby\n",
    "from operator import itemgetter\n",
    "res = [[k.strftime('%Y-%m'), sum(map(itemgetter(1), group))] for k,group in groupby(lst, lambda sl: sl[0].replace(day=1))]\n",
    "print (starttime, endtime)\n",
    "print (res)"
   ]
  },
  {
   "cell_type": "code",
   "execution_count": null,
   "metadata": {},
   "outputs": [],
   "source": []
  }
 ],
 "metadata": {
  "kernelspec": {
   "display_name": "Python 3",
   "language": "python",
   "name": "python3"
  },
  "language_info": {
   "codemirror_mode": {
    "name": "ipython",
    "version": 3
   },
   "file_extension": ".py",
   "mimetype": "text/x-python",
   "name": "python",
   "nbconvert_exporter": "python",
   "pygments_lexer": "ipython3",
   "version": "3.7.2"
  }
 },
 "nbformat": 4,
 "nbformat_minor": 2
}
